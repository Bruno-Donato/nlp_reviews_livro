{
 "cells": [
  {
   "attachments": {},
   "cell_type": "markdown",
   "metadata": {},
   "source": [
    "# O Mundo Assombrado Pelos Demônios - Carl Sagan: \n",
    "## Extração de reviews\n",
    "\n",
    "Parte inicial de projeto de análise de similaridade utilizando **MACHINE LEARNING** e tecnicas de processamento de linguagem natural (**NLP**).<br>\n",
    "Nessa etapa os reviews do livro foram extraidos com webscraping do site da Amazon, utilizando a biblioteca **___SELENIUM___**."
   ]
  },
  {
   "attachments": {},
   "cell_type": "markdown",
   "metadata": {},
   "source": [
    "# Importando bibliotecas"
   ]
  },
  {
   "cell_type": "code",
   "execution_count": 113,
   "metadata": {},
   "outputs": [],
   "source": [
    "import re\n",
    "import pandas as pd\n",
    "from queue import Full\n",
    "from selenium import webdriver\n",
    "from webdriver_manager.core.utils import ChromeType\n",
    "from selenium.webdriver.chrome.service import Service\n",
    "from webdriver_manager.chrome import ChromeDriverManager\n",
    "from selenium.webdriver.common.by import By\n",
    "from time import sleep"
   ]
  },
  {
   "attachments": {},
   "cell_type": "markdown",
   "metadata": {},
   "source": [
    "# Definindo função e instanciando driver"
   ]
  },
  {
   "cell_type": "code",
   "execution_count": null,
   "metadata": {},
   "outputs": [],
   "source": [
    "# Definir função para identificar caixa de busca e inserir texto\n",
    "def caixa_busca(nome, cod):\n",
    "    if cod != \"\":\n",
    "        driver.find_element(By.XPATH, nome).send_keys(cod)\n",
    "    else:\n",
    "        pass"
   ]
  },
  {
   "cell_type": "code",
   "execution_count": 114,
   "metadata": {},
   "outputs": [],
   "source": [
    "# Instanciando driver\n",
    "driver = webdriver.Chrome(service=Service(ChromeDriverManager(chrome_type=ChromeType.BRAVE).install()))\n",
    "\n",
    "# Maximizar tela\n",
    "driver.maximize_window()\n",
    "\n",
    "# Acessar site\n",
    "driver.get(\"https://www.amazon.com.br/\")\n",
    "sleep(2)"
   ]
  },
  {
   "attachments": {},
   "cell_type": "markdown",
   "metadata": {},
   "source": [
    "# Interagindo com a página para chegar aos reviews"
   ]
  },
  {
   "cell_type": "code",
   "execution_count": 116,
   "metadata": {},
   "outputs": [],
   "source": [
    "# Localiza caixa de busca e insere texto\n",
    "caixa_busca('//*[@id=\"twotabsearchtextbox\"]', 'o mundo assombrado pelos demônios carl sagan')\n",
    "sleep(2)\n",
    "\n",
    "# Localiza botão de busca e clica\n",
    "procura = driver.find_element(By.XPATH, '//*[@id=\"nav-search-submit-button\"]')\n",
    "procura.click()\n",
    "sleep(2)\n",
    "\n",
    "# Localiza link para reviews e clica\n",
    "item = driver.find_element(By.XPATH, '//*[@id=\"search\"]/div[1]/div[1]/div/span[1]/div[1]/div[3]/div/div')\n",
    "item.click()\n",
    "sleep(2)\n",
    "\n",
    "# Localiza botão para todos os reviews e clica\n",
    "reviews = driver.find_element(By.XPATH, '//*[@id=\"reviews-medley-footer\"]/div[2]/a')\n",
    "reviews.click()\n",
    "sleep(2)"
   ]
  },
  {
   "attachments": {},
   "cell_type": "markdown",
   "metadata": {},
   "source": [
    "# Coletando reviews de todas as páginas de review"
   ]
  },
  {
   "cell_type": "code",
   "execution_count": 125,
   "metadata": {},
   "outputs": [],
   "source": [
    "# Lista para armazenar reviews crus\n",
    "reviews = []\n",
    "\n",
    "# Localiza botão que leva a próxima página\n",
    "pagina = driver.find_element(By.PARTIAL_LINK_TEXT, 'Próximo')\n",
    "\n",
    "try:\n",
    "    # pagina = driver.find_element(By.PARTIAL_LINK_TEXT, 'Próximo')\n",
    "    while pagina != False:\n",
    "        sleep(2)\n",
    "        # Localiza todos os reviews da página\n",
    "        lista_reviews = driver.find_elements(By.XPATH, \"//span[@data-hook='review-body']\")\n",
    "        for review in lista_reviews:\n",
    "            # Adiciona review a lista de reviews\n",
    "            reviews.append(review.text)\n",
    "        sleep(2)\n",
    "        pagina = driver.find_element(By.PARTIAL_LINK_TEXT, 'Próximo')\n",
    "        pagina.click()\n",
    "except:\n",
    "    pass"
   ]
  },
  {
   "attachments": {},
   "cell_type": "markdown",
   "metadata": {},
   "source": [
    "# Criando e salvando dataframe"
   ]
  },
  {
   "cell_type": "code",
   "execution_count": 127,
   "metadata": {},
   "outputs": [],
   "source": [
    "# Criando dataframe\n",
    "df_reviews = pd.DataFrame({'reviews':reviews})\n",
    "\n",
    "# Averiguando dataframe\n",
    "df_reviews.info()"
   ]
  },
  {
   "cell_type": "code",
   "execution_count": 76,
   "metadata": {},
   "outputs": [],
   "source": [
    "df_reviews.to_csv(r'data/mundo_assombrado_reviews.csv', index=False)"
   ]
  }
 ],
 "metadata": {
  "kernelspec": {
   "display_name": "Python 3",
   "language": "python",
   "name": "python3"
  },
  "language_info": {
   "codemirror_mode": {
    "name": "ipython",
    "version": 3
   },
   "file_extension": ".py",
   "mimetype": "text/x-python",
   "name": "python",
   "nbconvert_exporter": "python",
   "pygments_lexer": "ipython3",
   "version": "3.10.4"
  },
  "orig_nbformat": 4,
  "vscode": {
   "interpreter": {
    "hash": "2852de53f51e57db0fb3c92b7d03cd28fd1e6acc643c7bf23f4addc7db48be7a"
   }
  }
 },
 "nbformat": 4,
 "nbformat_minor": 2
}
